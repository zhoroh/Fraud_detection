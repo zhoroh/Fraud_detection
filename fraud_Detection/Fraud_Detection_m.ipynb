{
 "cells": [
  {
   "cell_type": "code",
   "execution_count": 1,
   "metadata": {},
   "outputs": [],
   "source": [
    "import numpy as np\n",
    "import pandas as pd"
   ]
  },
  {
   "cell_type": "code",
   "execution_count": 2,
   "metadata": {},
   "outputs": [],
   "source": [
    "train_data = pd.read_csv(\"train.csv\")\n",
    "test_data = pd.read_csv('test.csv')"
   ]
  },
  {
   "cell_type": "code",
   "execution_count": 3,
   "metadata": {},
   "outputs": [
    {
     "name": "stdout",
     "output_type": "stream",
     "text": [
      "<class 'pandas.core.frame.DataFrame'>\n",
      "RangeIndex: 10493 entries, 0 to 10492\n",
      "Data columns (total 15 columns):\n",
      " #   Column                            Non-Null Count  Dtype \n",
      "---  ------                            --------------  ----- \n",
      " 0   id                                10493 non-null  object\n",
      " 1   transaction time                  10493 non-null  object\n",
      " 2   current bank amount               10493 non-null  int64 \n",
      " 3   last bank amount                  10493 non-null  int64 \n",
      " 4   time taken (seconds)              10493 non-null  int64 \n",
      " 5   most recent bank amount           10493 non-null  int64 \n",
      " 6   account type                      10493 non-null  object\n",
      " 7   marital_status                    10493 non-null  object\n",
      " 8   age                               10493 non-null  int64 \n",
      " 9   occupation                        10493 non-null  object\n",
      " 10  credit card type                  10493 non-null  object\n",
      " 11  account source verification       10493 non-null  bool  \n",
      " 12  transaction source method         10493 non-null  bool  \n",
      " 13  account destination verification  10493 non-null  bool  \n",
      " 14  fradulent                         10493 non-null  int64 \n",
      "dtypes: bool(3), int64(6), object(6)\n",
      "memory usage: 1014.6+ KB\n"
     ]
    }
   ],
   "source": [
    "train_data.info()"
   ]
  },
  {
   "cell_type": "code",
   "execution_count": 4,
   "metadata": {},
   "outputs": [
    {
     "name": "stdout",
     "output_type": "stream",
     "text": [
      "<class 'pandas.core.frame.DataFrame'>\n",
      "RangeIndex: 4507 entries, 0 to 4506\n",
      "Data columns (total 14 columns):\n",
      " #   Column                            Non-Null Count  Dtype \n",
      "---  ------                            --------------  ----- \n",
      " 0   id                                4507 non-null   object\n",
      " 1   transaction time                  4507 non-null   object\n",
      " 2   current bank amount               4507 non-null   int64 \n",
      " 3   last bank amount                  4507 non-null   int64 \n",
      " 4   time taken (seconds)              4507 non-null   int64 \n",
      " 5   most recent bank amount           4507 non-null   int64 \n",
      " 6   account type                      4507 non-null   object\n",
      " 7   marital_status                    4507 non-null   object\n",
      " 8   age                               4507 non-null   int64 \n",
      " 9   occupation                        4507 non-null   object\n",
      " 10  credit card type                  4507 non-null   object\n",
      " 11  account source verification       4507 non-null   bool  \n",
      " 12  transaction source method         4507 non-null   bool  \n",
      " 13  account destination verification  4507 non-null   bool  \n",
      "dtypes: bool(3), int64(5), object(6)\n",
      "memory usage: 400.6+ KB\n"
     ]
    }
   ],
   "source": [
    "test_data.info()\n"
   ]
  },
  {
   "cell_type": "code",
   "execution_count": 5,
   "metadata": {},
   "outputs": [
    {
     "data": {
      "text/html": [
       "<div>\n",
       "<style scoped>\n",
       "    .dataframe tbody tr th:only-of-type {\n",
       "        vertical-align: middle;\n",
       "    }\n",
       "\n",
       "    .dataframe tbody tr th {\n",
       "        vertical-align: top;\n",
       "    }\n",
       "\n",
       "    .dataframe thead th {\n",
       "        text-align: right;\n",
       "    }\n",
       "</style>\n",
       "<table border=\"1\" class=\"dataframe\">\n",
       "  <thead>\n",
       "    <tr style=\"text-align: right;\">\n",
       "      <th></th>\n",
       "      <th>id</th>\n",
       "      <th>transaction time</th>\n",
       "      <th>current bank amount</th>\n",
       "      <th>last bank amount</th>\n",
       "      <th>time taken (seconds)</th>\n",
       "      <th>most recent bank amount</th>\n",
       "      <th>account type</th>\n",
       "      <th>marital_status</th>\n",
       "      <th>age</th>\n",
       "      <th>occupation</th>\n",
       "      <th>credit card type</th>\n",
       "      <th>account source verification</th>\n",
       "      <th>transaction source method</th>\n",
       "      <th>account destination verification</th>\n",
       "      <th>fradulent</th>\n",
       "    </tr>\n",
       "  </thead>\n",
       "  <tbody>\n",
       "    <tr>\n",
       "      <th>0</th>\n",
       "      <td>acus0</td>\n",
       "      <td>2016-10-05T01:44:58</td>\n",
       "      <td>43671</td>\n",
       "      <td>1151263</td>\n",
       "      <td>2299</td>\n",
       "      <td>348764</td>\n",
       "      <td>saving</td>\n",
       "      <td>married</td>\n",
       "      <td>46</td>\n",
       "      <td>musician</td>\n",
       "      <td>master</td>\n",
       "      <td>True</td>\n",
       "      <td>False</td>\n",
       "      <td>True</td>\n",
       "      <td>0</td>\n",
       "    </tr>\n",
       "    <tr>\n",
       "      <th>1</th>\n",
       "      <td>acus1</td>\n",
       "      <td>2015-01-14T15:05:07</td>\n",
       "      <td>7442</td>\n",
       "      <td>1062843</td>\n",
       "      <td>4553</td>\n",
       "      <td>225114</td>\n",
       "      <td>current</td>\n",
       "      <td>single</td>\n",
       "      <td>64</td>\n",
       "      <td>accounting</td>\n",
       "      <td>master</td>\n",
       "      <td>True</td>\n",
       "      <td>False</td>\n",
       "      <td>False</td>\n",
       "      <td>0</td>\n",
       "    </tr>\n",
       "    <tr>\n",
       "      <th>2</th>\n",
       "      <td>acus2</td>\n",
       "      <td>2016-10-28T13:44:58</td>\n",
       "      <td>40102</td>\n",
       "      <td>48042</td>\n",
       "      <td>1493</td>\n",
       "      <td>420486</td>\n",
       "      <td>current</td>\n",
       "      <td>married</td>\n",
       "      <td>41</td>\n",
       "      <td>farmer</td>\n",
       "      <td>master</td>\n",
       "      <td>True</td>\n",
       "      <td>True</td>\n",
       "      <td>True</td>\n",
       "      <td>0</td>\n",
       "    </tr>\n",
       "    <tr>\n",
       "      <th>3</th>\n",
       "      <td>acus3</td>\n",
       "      <td>2016-11-20T15:05:32</td>\n",
       "      <td>61024</td>\n",
       "      <td>1441746</td>\n",
       "      <td>544</td>\n",
       "      <td>239663</td>\n",
       "      <td>current</td>\n",
       "      <td>unknown</td>\n",
       "      <td>66</td>\n",
       "      <td>clergy</td>\n",
       "      <td>master</td>\n",
       "      <td>True</td>\n",
       "      <td>True</td>\n",
       "      <td>True</td>\n",
       "      <td>0</td>\n",
       "    </tr>\n",
       "    <tr>\n",
       "      <th>4</th>\n",
       "      <td>acus4</td>\n",
       "      <td>2015-09-01T16:11:57</td>\n",
       "      <td>22867</td>\n",
       "      <td>510656</td>\n",
       "      <td>4581</td>\n",
       "      <td>432337</td>\n",
       "      <td>current</td>\n",
       "      <td>married</td>\n",
       "      <td>78</td>\n",
       "      <td>accounting</td>\n",
       "      <td>verve</td>\n",
       "      <td>False</td>\n",
       "      <td>False</td>\n",
       "      <td>True</td>\n",
       "      <td>1</td>\n",
       "    </tr>\n",
       "  </tbody>\n",
       "</table>\n",
       "</div>"
      ],
      "text/plain": [
       "      id     transaction time  current bank amount  last bank amount  \\\n",
       "0  acus0  2016-10-05T01:44:58                43671           1151263   \n",
       "1  acus1  2015-01-14T15:05:07                 7442           1062843   \n",
       "2  acus2  2016-10-28T13:44:58                40102             48042   \n",
       "3  acus3  2016-11-20T15:05:32                61024           1441746   \n",
       "4  acus4  2015-09-01T16:11:57                22867            510656   \n",
       "\n",
       "   time taken (seconds)  most recent bank amount account type marital_status  \\\n",
       "0                  2299                   348764       saving        married   \n",
       "1                  4553                   225114      current         single   \n",
       "2                  1493                   420486      current        married   \n",
       "3                   544                   239663      current        unknown   \n",
       "4                  4581                   432337      current        married   \n",
       "\n",
       "   age  occupation credit card type  account source verification  \\\n",
       "0   46    musician           master                         True   \n",
       "1   64  accounting           master                         True   \n",
       "2   41      farmer           master                         True   \n",
       "3   66      clergy           master                         True   \n",
       "4   78  accounting            verve                        False   \n",
       "\n",
       "   transaction source method  account destination verification  fradulent  \n",
       "0                      False                              True          0  \n",
       "1                      False                             False          0  \n",
       "2                       True                              True          0  \n",
       "3                       True                              True          0  \n",
       "4                      False                              True          1  "
      ]
     },
     "execution_count": 5,
     "metadata": {},
     "output_type": "execute_result"
    }
   ],
   "source": [
    "train_data.head()"
   ]
  },
  {
   "cell_type": "code",
   "execution_count": 6,
   "metadata": {},
   "outputs": [
    {
     "data": {
      "text/html": [
       "<div>\n",
       "<style scoped>\n",
       "    .dataframe tbody tr th:only-of-type {\n",
       "        vertical-align: middle;\n",
       "    }\n",
       "\n",
       "    .dataframe tbody tr th {\n",
       "        vertical-align: top;\n",
       "    }\n",
       "\n",
       "    .dataframe thead th {\n",
       "        text-align: right;\n",
       "    }\n",
       "</style>\n",
       "<table border=\"1\" class=\"dataframe\">\n",
       "  <thead>\n",
       "    <tr style=\"text-align: right;\">\n",
       "      <th></th>\n",
       "      <th>id</th>\n",
       "      <th>transaction time</th>\n",
       "      <th>current bank amount</th>\n",
       "      <th>last bank amount</th>\n",
       "      <th>time taken (seconds)</th>\n",
       "      <th>most recent bank amount</th>\n",
       "      <th>account type</th>\n",
       "      <th>marital_status</th>\n",
       "      <th>age</th>\n",
       "      <th>occupation</th>\n",
       "      <th>credit card type</th>\n",
       "      <th>account source verification</th>\n",
       "      <th>transaction source method</th>\n",
       "      <th>account destination verification</th>\n",
       "    </tr>\n",
       "  </thead>\n",
       "  <tbody>\n",
       "    <tr>\n",
       "      <th>0</th>\n",
       "      <td>bcus2993</td>\n",
       "      <td>2016-06-28T12:51:43</td>\n",
       "      <td>88677</td>\n",
       "      <td>1059697</td>\n",
       "      <td>3033</td>\n",
       "      <td>29964</td>\n",
       "      <td>current</td>\n",
       "      <td>unknown</td>\n",
       "      <td>78</td>\n",
       "      <td>accounting</td>\n",
       "      <td>verve</td>\n",
       "      <td>True</td>\n",
       "      <td>True</td>\n",
       "      <td>False</td>\n",
       "    </tr>\n",
       "    <tr>\n",
       "      <th>1</th>\n",
       "      <td>bcus2994</td>\n",
       "      <td>2015-12-16T18:04:03</td>\n",
       "      <td>85737</td>\n",
       "      <td>434908</td>\n",
       "      <td>3025</td>\n",
       "      <td>354835</td>\n",
       "      <td>current</td>\n",
       "      <td>single</td>\n",
       "      <td>38</td>\n",
       "      <td>farmer</td>\n",
       "      <td>master</td>\n",
       "      <td>True</td>\n",
       "      <td>False</td>\n",
       "      <td>False</td>\n",
       "    </tr>\n",
       "    <tr>\n",
       "      <th>2</th>\n",
       "      <td>bcus2995</td>\n",
       "      <td>2016-10-15T04:06:55</td>\n",
       "      <td>14611</td>\n",
       "      <td>1287631</td>\n",
       "      <td>2414</td>\n",
       "      <td>395445</td>\n",
       "      <td>current</td>\n",
       "      <td>unknown</td>\n",
       "      <td>47</td>\n",
       "      <td>banking</td>\n",
       "      <td>master</td>\n",
       "      <td>True</td>\n",
       "      <td>False</td>\n",
       "      <td>False</td>\n",
       "    </tr>\n",
       "    <tr>\n",
       "      <th>3</th>\n",
       "      <td>bcus2996</td>\n",
       "      <td>2014-03-15T04:40:45</td>\n",
       "      <td>53130</td>\n",
       "      <td>61604</td>\n",
       "      <td>1228</td>\n",
       "      <td>204872</td>\n",
       "      <td>current</td>\n",
       "      <td>single</td>\n",
       "      <td>74</td>\n",
       "      <td>clergy</td>\n",
       "      <td>master</td>\n",
       "      <td>False</td>\n",
       "      <td>False</td>\n",
       "      <td>True</td>\n",
       "    </tr>\n",
       "    <tr>\n",
       "      <th>4</th>\n",
       "      <td>bcus2997</td>\n",
       "      <td>2015-05-25T05:09:33</td>\n",
       "      <td>20643</td>\n",
       "      <td>1143031</td>\n",
       "      <td>1031</td>\n",
       "      <td>207262</td>\n",
       "      <td>current</td>\n",
       "      <td>married</td>\n",
       "      <td>72</td>\n",
       "      <td>lawyer</td>\n",
       "      <td>master</td>\n",
       "      <td>True</td>\n",
       "      <td>False</td>\n",
       "      <td>True</td>\n",
       "    </tr>\n",
       "  </tbody>\n",
       "</table>\n",
       "</div>"
      ],
      "text/plain": [
       "         id     transaction time  current bank amount  last bank amount  \\\n",
       "0  bcus2993  2016-06-28T12:51:43                88677           1059697   \n",
       "1  bcus2994  2015-12-16T18:04:03                85737            434908   \n",
       "2  bcus2995  2016-10-15T04:06:55                14611           1287631   \n",
       "3  bcus2996  2014-03-15T04:40:45                53130             61604   \n",
       "4  bcus2997  2015-05-25T05:09:33                20643           1143031   \n",
       "\n",
       "   time taken (seconds)  most recent bank amount account type marital_status  \\\n",
       "0                  3033                    29964      current        unknown   \n",
       "1                  3025                   354835      current         single   \n",
       "2                  2414                   395445      current        unknown   \n",
       "3                  1228                   204872      current         single   \n",
       "4                  1031                   207262      current        married   \n",
       "\n",
       "   age  occupation credit card type  account source verification  \\\n",
       "0   78  accounting            verve                         True   \n",
       "1   38      farmer           master                         True   \n",
       "2   47     banking           master                         True   \n",
       "3   74      clergy           master                        False   \n",
       "4   72      lawyer           master                         True   \n",
       "\n",
       "   transaction source method  account destination verification  \n",
       "0                       True                             False  \n",
       "1                      False                             False  \n",
       "2                      False                             False  \n",
       "3                      False                              True  \n",
       "4                      False                              True  "
      ]
     },
     "execution_count": 6,
     "metadata": {},
     "output_type": "execute_result"
    }
   ],
   "source": [
    "test_data.head()"
   ]
  },
  {
   "cell_type": "code",
   "execution_count": 7,
   "metadata": {},
   "outputs": [
    {
     "data": {
      "text/html": [
       "<div>\n",
       "<style scoped>\n",
       "    .dataframe tbody tr th:only-of-type {\n",
       "        vertical-align: middle;\n",
       "    }\n",
       "\n",
       "    .dataframe tbody tr th {\n",
       "        vertical-align: top;\n",
       "    }\n",
       "\n",
       "    .dataframe thead th {\n",
       "        text-align: right;\n",
       "    }\n",
       "</style>\n",
       "<table border=\"1\" class=\"dataframe\">\n",
       "  <thead>\n",
       "    <tr style=\"text-align: right;\">\n",
       "      <th></th>\n",
       "      <th>current bank amount</th>\n",
       "      <th>last bank amount</th>\n",
       "      <th>time taken (seconds)</th>\n",
       "      <th>most recent bank amount</th>\n",
       "      <th>age</th>\n",
       "      <th>fradulent</th>\n",
       "    </tr>\n",
       "  </thead>\n",
       "  <tbody>\n",
       "    <tr>\n",
       "      <th>count</th>\n",
       "      <td>10493.000000</td>\n",
       "      <td>1.049300e+04</td>\n",
       "      <td>10493.000000</td>\n",
       "      <td>10493.000000</td>\n",
       "      <td>10493.000000</td>\n",
       "      <td>10493.000000</td>\n",
       "    </tr>\n",
       "    <tr>\n",
       "      <th>mean</th>\n",
       "      <td>50001.984656</td>\n",
       "      <td>7.492752e+05</td>\n",
       "      <td>2508.627657</td>\n",
       "      <td>250768.667588</td>\n",
       "      <td>54.649004</td>\n",
       "      <td>0.276661</td>\n",
       "    </tr>\n",
       "    <tr>\n",
       "      <th>std</th>\n",
       "      <td>28681.350627</td>\n",
       "      <td>4.336081e+05</td>\n",
       "      <td>1432.820357</td>\n",
       "      <td>144145.272817</td>\n",
       "      <td>14.350928</td>\n",
       "      <td>0.447369</td>\n",
       "    </tr>\n",
       "    <tr>\n",
       "      <th>min</th>\n",
       "      <td>1.000000</td>\n",
       "      <td>8.000000e+00</td>\n",
       "      <td>4.000000</td>\n",
       "      <td>34.000000</td>\n",
       "      <td>30.000000</td>\n",
       "      <td>0.000000</td>\n",
       "    </tr>\n",
       "    <tr>\n",
       "      <th>25%</th>\n",
       "      <td>25243.000000</td>\n",
       "      <td>3.787840e+05</td>\n",
       "      <td>1282.000000</td>\n",
       "      <td>126333.000000</td>\n",
       "      <td>42.000000</td>\n",
       "      <td>0.000000</td>\n",
       "    </tr>\n",
       "    <tr>\n",
       "      <th>50%</th>\n",
       "      <td>50093.000000</td>\n",
       "      <td>7.485950e+05</td>\n",
       "      <td>2520.000000</td>\n",
       "      <td>253174.000000</td>\n",
       "      <td>55.000000</td>\n",
       "      <td>0.000000</td>\n",
       "    </tr>\n",
       "    <tr>\n",
       "      <th>75%</th>\n",
       "      <td>74539.000000</td>\n",
       "      <td>1.126013e+06</td>\n",
       "      <td>3710.000000</td>\n",
       "      <td>376461.000000</td>\n",
       "      <td>67.000000</td>\n",
       "      <td>1.000000</td>\n",
       "    </tr>\n",
       "    <tr>\n",
       "      <th>max</th>\n",
       "      <td>99989.000000</td>\n",
       "      <td>1.499877e+06</td>\n",
       "      <td>4999.000000</td>\n",
       "      <td>499926.000000</td>\n",
       "      <td>79.000000</td>\n",
       "      <td>1.000000</td>\n",
       "    </tr>\n",
       "  </tbody>\n",
       "</table>\n",
       "</div>"
      ],
      "text/plain": [
       "       current bank amount  last bank amount  time taken (seconds)  \\\n",
       "count         10493.000000      1.049300e+04          10493.000000   \n",
       "mean          50001.984656      7.492752e+05           2508.627657   \n",
       "std           28681.350627      4.336081e+05           1432.820357   \n",
       "min               1.000000      8.000000e+00              4.000000   \n",
       "25%           25243.000000      3.787840e+05           1282.000000   \n",
       "50%           50093.000000      7.485950e+05           2520.000000   \n",
       "75%           74539.000000      1.126013e+06           3710.000000   \n",
       "max           99989.000000      1.499877e+06           4999.000000   \n",
       "\n",
       "       most recent bank amount           age     fradulent  \n",
       "count             10493.000000  10493.000000  10493.000000  \n",
       "mean             250768.667588     54.649004      0.276661  \n",
       "std              144145.272817     14.350928      0.447369  \n",
       "min                  34.000000     30.000000      0.000000  \n",
       "25%              126333.000000     42.000000      0.000000  \n",
       "50%              253174.000000     55.000000      0.000000  \n",
       "75%              376461.000000     67.000000      1.000000  \n",
       "max              499926.000000     79.000000      1.000000  "
      ]
     },
     "execution_count": 7,
     "metadata": {},
     "output_type": "execute_result"
    }
   ],
   "source": [
    "train_data.describe()"
   ]
  },
  {
   "cell_type": "code",
   "execution_count": 8,
   "metadata": {},
   "outputs": [
    {
     "data": {
      "text/html": [
       "<div>\n",
       "<style scoped>\n",
       "    .dataframe tbody tr th:only-of-type {\n",
       "        vertical-align: middle;\n",
       "    }\n",
       "\n",
       "    .dataframe tbody tr th {\n",
       "        vertical-align: top;\n",
       "    }\n",
       "\n",
       "    .dataframe thead th {\n",
       "        text-align: right;\n",
       "    }\n",
       "</style>\n",
       "<table border=\"1\" class=\"dataframe\">\n",
       "  <thead>\n",
       "    <tr style=\"text-align: right;\">\n",
       "      <th></th>\n",
       "      <th>current bank amount</th>\n",
       "      <th>last bank amount</th>\n",
       "      <th>time taken (seconds)</th>\n",
       "      <th>most recent bank amount</th>\n",
       "      <th>age</th>\n",
       "    </tr>\n",
       "  </thead>\n",
       "  <tbody>\n",
       "    <tr>\n",
       "      <th>count</th>\n",
       "      <td>4507.000000</td>\n",
       "      <td>4.507000e+03</td>\n",
       "      <td>4507.000000</td>\n",
       "      <td>4507.000000</td>\n",
       "      <td>4507.000000</td>\n",
       "    </tr>\n",
       "    <tr>\n",
       "      <th>mean</th>\n",
       "      <td>49991.463945</td>\n",
       "      <td>7.526831e+05</td>\n",
       "      <td>2517.641669</td>\n",
       "      <td>245862.386510</td>\n",
       "      <td>54.800976</td>\n",
       "    </tr>\n",
       "    <tr>\n",
       "      <th>std</th>\n",
       "      <td>29077.175736</td>\n",
       "      <td>4.351322e+05</td>\n",
       "      <td>1442.939815</td>\n",
       "      <td>144457.063048</td>\n",
       "      <td>14.529433</td>\n",
       "    </tr>\n",
       "    <tr>\n",
       "      <th>min</th>\n",
       "      <td>7.000000</td>\n",
       "      <td>3.330000e+02</td>\n",
       "      <td>4.000000</td>\n",
       "      <td>28.000000</td>\n",
       "      <td>30.000000</td>\n",
       "    </tr>\n",
       "    <tr>\n",
       "      <th>25%</th>\n",
       "      <td>24478.500000</td>\n",
       "      <td>3.672205e+05</td>\n",
       "      <td>1271.500000</td>\n",
       "      <td>118544.500000</td>\n",
       "      <td>42.000000</td>\n",
       "    </tr>\n",
       "    <tr>\n",
       "      <th>50%</th>\n",
       "      <td>49959.000000</td>\n",
       "      <td>7.572590e+05</td>\n",
       "      <td>2508.000000</td>\n",
       "      <td>243979.000000</td>\n",
       "      <td>55.000000</td>\n",
       "    </tr>\n",
       "    <tr>\n",
       "      <th>75%</th>\n",
       "      <td>75675.500000</td>\n",
       "      <td>1.124272e+06</td>\n",
       "      <td>3760.500000</td>\n",
       "      <td>369118.500000</td>\n",
       "      <td>67.000000</td>\n",
       "    </tr>\n",
       "    <tr>\n",
       "      <th>max</th>\n",
       "      <td>99996.000000</td>\n",
       "      <td>1.499122e+06</td>\n",
       "      <td>4999.000000</td>\n",
       "      <td>499641.000000</td>\n",
       "      <td>79.000000</td>\n",
       "    </tr>\n",
       "  </tbody>\n",
       "</table>\n",
       "</div>"
      ],
      "text/plain": [
       "       current bank amount  last bank amount  time taken (seconds)  \\\n",
       "count          4507.000000      4.507000e+03           4507.000000   \n",
       "mean          49991.463945      7.526831e+05           2517.641669   \n",
       "std           29077.175736      4.351322e+05           1442.939815   \n",
       "min               7.000000      3.330000e+02              4.000000   \n",
       "25%           24478.500000      3.672205e+05           1271.500000   \n",
       "50%           49959.000000      7.572590e+05           2508.000000   \n",
       "75%           75675.500000      1.124272e+06           3760.500000   \n",
       "max           99996.000000      1.499122e+06           4999.000000   \n",
       "\n",
       "       most recent bank amount          age  \n",
       "count              4507.000000  4507.000000  \n",
       "mean             245862.386510    54.800976  \n",
       "std              144457.063048    14.529433  \n",
       "min                  28.000000    30.000000  \n",
       "25%              118544.500000    42.000000  \n",
       "50%              243979.000000    55.000000  \n",
       "75%              369118.500000    67.000000  \n",
       "max              499641.000000    79.000000  "
      ]
     },
     "execution_count": 8,
     "metadata": {},
     "output_type": "execute_result"
    }
   ],
   "source": [
    "test_data.describe()"
   ]
  },
  {
   "cell_type": "code",
   "execution_count": 9,
   "metadata": {},
   "outputs": [
    {
     "data": {
      "text/plain": [
       "Index(['id', 'transaction time', 'current bank amount', 'last bank amount',\n",
       "       'time taken (seconds)', 'most recent bank amount', 'account type',\n",
       "       'marital_status', 'age', 'occupation', 'credit card type',\n",
       "       'account source verification', 'transaction source method',\n",
       "       'account destination verification', 'fradulent'],\n",
       "      dtype='object')"
      ]
     },
     "execution_count": 9,
     "metadata": {},
     "output_type": "execute_result"
    }
   ],
   "source": [
    "train_data.columns"
   ]
  },
  {
   "cell_type": "code",
   "execution_count": 10,
   "metadata": {},
   "outputs": [
    {
     "data": {
      "text/plain": [
       "array(['married', 'single', 'unknown'], dtype=object)"
      ]
     },
     "execution_count": 10,
     "metadata": {},
     "output_type": "execute_result"
    }
   ],
   "source": [
    "train_data['marital_status'].unique()"
   ]
  },
  {
   "cell_type": "code",
   "execution_count": 11,
   "metadata": {},
   "outputs": [
    {
     "data": {
      "text/plain": [
       "married    5270\n",
       "single     3122\n",
       "unknown    2101\n",
       "Name: marital_status, dtype: int64"
      ]
     },
     "execution_count": 11,
     "metadata": {},
     "output_type": "execute_result"
    }
   ],
   "source": [
    "train_data['marital_status'].value_counts()"
   ]
  },
  {
   "cell_type": "code",
   "execution_count": 4,
   "metadata": {},
   "outputs": [
    {
     "name": "stderr",
     "output_type": "stream",
     "text": [
      "C:\\Users\\Olazaah\\Anaconda3\\lib\\site-packages\\statsmodels\\tools\\_testing.py:19: FutureWarning: pandas.util.testing is deprecated. Use the functions in the public API at pandas.testing instead.\n",
      "  import pandas.util.testing as tm\n"
     ]
    }
   ],
   "source": [
    "import seaborn as sns\n",
    "import matplotlib.pyplot as plt\n"
   ]
  },
  {
   "cell_type": "code",
   "execution_count": 8,
   "metadata": {},
   "outputs": [
    {
     "data": {
      "image/png": "[encoded data removed]",
      "text/plain": [
       "<Figure size 576x576 with 1 Axes>"
      ]
     },
     "metadata": {
      "needs_background": "light"
     },
     "output_type": "display_data"
    }
   ],
   "source": [
    "marital_status = ['married','single','unknown']\n",
    "values = [5270,3122,2101]\n",
    "\n",
    "\n",
    "plt.figure(figsize = (8,8))\n",
    "\n",
    "plt.bar(marital_status,values)\n",
    "\n",
    "plt.show()\n",
    "\n",
    "\n"
   ]
  },
  {
   "cell_type": "code",
   "execution_count": null,
   "metadata": {},
   "outputs": [],
   "source": []
  },
  {
   "cell_type": "code",
   "execution_count": 16,
   "metadata": {},
   "outputs": [
    {
     "data": {
      "text/plain": [
       "<matplotlib.axes._subplots.AxesSubplot at 0x13357b86390>"
      ]
     },
     "execution_count": 16,
     "metadata": {},
     "output_type": "execute_result"
    },
    {
     "data": {
      "image/png": "[encoded data removed]",
      "text/plain": [
       "<Figure size 432x288 with 1 Axes>"
      ]
     },
     "metadata": {
      "needs_background": "light"
     },
     "output_type": "display_data"
    }
   ],
   "source": [
    "sns.countplot(x = 'marital_status', hue = 'fradulent', data = train_data)"
   ]
  },
  {
   "cell_type": "code",
   "execution_count": 20,
   "metadata": {},
   "outputs": [],
   "source": [
    "test_id = test_data['id']"
   ]
  },
  {
   "cell_type": "code",
   "execution_count": 21,
   "metadata": {},
   "outputs": [],
   "source": [
    "train_data = train_data.drop(['id','current bank amount', 'last bank amount','most recent bank amount'], axis = 1)\n"
   ]
  },
  {
   "cell_type": "code",
   "execution_count": 22,
   "metadata": {},
   "outputs": [],
   "source": [
    "test_data = test_data.drop(['id','current bank amount', 'last bank amount','most recent bank amount'], axis = 1)"
   ]
  },
  {
   "cell_type": "code",
   "execution_count": 23,
   "metadata": {},
   "outputs": [
    {
     "data": {
      "text/plain": [
       "<matplotlib.axes._subplots.AxesSubplot at 0x13357bec320>"
      ]
     },
     "execution_count": 23,
     "metadata": {},
     "output_type": "execute_result"
    },
    {
     "data": {
      "image/png": "[encoded data removed]",
      "text/plain": [
       "<Figure size 432x288 with 1 Axes>"
      ]
     },
     "metadata": {
      "needs_background": "light"
     },
     "output_type": "display_data"
    }
   ],
   "source": [
    "sns.barplot(x = 'fradulent', y = 'time taken (seconds)', hue = 'account source verification', data = train_data,\n",
    "           orient = 'vertical')"
   ]
  },
  {
   "cell_type": "code",
   "execution_count": 24,
   "metadata": {},
   "outputs": [
    {
     "data": {
      "text/plain": [
       "<matplotlib.axes._subplots.AxesSubplot at 0x13357f5beb8>"
      ]
     },
     "execution_count": 24,
     "metadata": {},
     "output_type": "execute_result"
    },
    {
     "data": {
      "image/png": "[encoded data removed]",
      "text/plain": [
       "<Figure size 432x288 with 1 Axes>"
      ]
     },
     "metadata": {
      "needs_background": "light"
     },
     "output_type": "display_data"
    }
   ],
   "source": [
    "sns.barplot(x = 'fradulent', y = 'age', hue = 'marital_status', data = train_data,\n",
    "           orient = 'vertical')"
   ]
  },
  {
   "cell_type": "code",
   "execution_count": 25,
   "metadata": {},
   "outputs": [
    {
     "data": {
      "text/plain": [
       "<matplotlib.axes._subplots.AxesSubplot at 0x13357c823c8>"
      ]
     },
     "execution_count": 25,
     "metadata": {},
     "output_type": "execute_result"
    },
    {
     "data": {
      "image/png": "[encoded data removed]",
      "text/plain": [
       "<Figure size 432x288 with 1 Axes>"
      ]
     },
     "metadata": {
      "needs_background": "light"
     },
     "output_type": "display_data"
    }
   ],
   "source": [
    "sns.boxenplot(x = 'fradulent', y = 'age', hue = 'marital_status', data = train_data)"
   ]
  },
  {
   "cell_type": "code",
   "execution_count": 26,
   "metadata": {},
   "outputs": [
    {
     "data": {
      "text/plain": [
       "<matplotlib.axes._subplots.AxesSubplot at 0x13357e35f98>"
      ]
     },
     "execution_count": 26,
     "metadata": {},
     "output_type": "execute_result"
    },
    {
     "data": {
      "image/png": "[encoded data removed]",
      "text/plain": [
       "<Figure size 432x288 with 1 Axes>"
      ]
     },
     "metadata": {
      "needs_background": "light"
     },
     "output_type": "display_data"
    }
   ],
   "source": [
    "sns.boxplot(x = 'fradulent', y = 'age', hue = 'marital_status', data = train_data)"
   ]
  },
  {
   "cell_type": "code",
   "execution_count": 27,
   "metadata": {},
   "outputs": [
    {
     "data": {
      "text/plain": [
       "<matplotlib.axes._subplots.AxesSubplot at 0x13357fd0dd8>"
      ]
     },
     "execution_count": 27,
     "metadata": {},
     "output_type": "execute_result"
    },
    {
     "data": {
      "image/png": "[encoded data removed]",
      "text/plain": [
       "<Figure size 432x288 with 1 Axes>"
      ]
     },
     "metadata": {
      "needs_background": "light"
     },
     "output_type": "display_data"
    }
   ],
   "source": [
    "sns.countplot(x = 'marital_status', hue = 'account type', data = train_data)"
   ]
  },
  {
   "cell_type": "code",
   "execution_count": 28,
   "metadata": {},
   "outputs": [
    {
     "data": {
      "text/plain": [
       "<matplotlib.axes._subplots.AxesSubplot at 0x133580427f0>"
      ]
     },
     "execution_count": 28,
     "metadata": {},
     "output_type": "execute_result"
    },
    {
     "data": {
      "image/png": "[encoded data removed]",
      "text/plain": [
       "<Figure size 432x288 with 1 Axes>"
      ]
     },
     "metadata": {
      "needs_background": "light"
     },
     "output_type": "display_data"
    }
   ],
   "source": [
    "sns.countplot(x = 'occupation', hue = 'credit card type', data = train_data)"
   ]
  },
  {
   "cell_type": "code",
   "execution_count": 29,
   "metadata": {},
   "outputs": [
    {
     "data": {
      "text/plain": [
       "<matplotlib.axes._subplots.AxesSubplot at 0x133580d46a0>"
      ]
     },
     "execution_count": 29,
     "metadata": {},
     "output_type": "execute_result"
    },
    {
     "data": {
      "image/png": "[encoded data removed]",
      "text/plain": [
       "<Figure size 432x288 with 1 Axes>"
      ]
     },
     "metadata": {
      "needs_background": "light"
     },
     "output_type": "display_data"
    }
   ],
   "source": [
    "sns.countplot(x = 'fradulent', hue = 'credit card type', data = train_data)"
   ]
  },
  {
   "cell_type": "code",
   "execution_count": 30,
   "metadata": {},
   "outputs": [
    {
     "data": {
      "text/plain": [
       "<matplotlib.axes._subplots.AxesSubplot at 0x133581415c0>"
      ]
     },
     "execution_count": 30,
     "metadata": {},
     "output_type": "execute_result"
    },
    {
     "data": {
      "image/png": "[encoded data removed]",
      "text/plain": [
       "<Figure size 432x288 with 1 Axes>"
      ]
     },
     "metadata": {
      "needs_background": "light"
     },
     "output_type": "display_data"
    }
   ],
   "source": [
    "sns.countplot(x = 'fradulent', hue = 'transaction source method', data = train_data)"
   ]
  },
  {
   "cell_type": "code",
   "execution_count": 31,
   "metadata": {},
   "outputs": [
    {
     "data": {
      "text/plain": [
       "<matplotlib.axes._subplots.AxesSubplot at 0x13357cc6978>"
      ]
     },
     "execution_count": 31,
     "metadata": {},
     "output_type": "execute_result"
    },
    {
     "data": {
      "image/png": "[encoded data removed]",
      "text/plain": [
       "<Figure size 432x288 with 1 Axes>"
      ]
     },
     "metadata": {
      "needs_background": "light"
     },
     "output_type": "display_data"
    }
   ],
   "source": [
    "sns.countplot(x = 'fradulent', hue = 'account destination verification', data = train_data)"
   ]
  },
  {
   "cell_type": "code",
   "execution_count": 32,
   "metadata": {},
   "outputs": [
    {
     "data": {
      "text/plain": [
       "<matplotlib.axes._subplots.AxesSubplot at 0x133581e5eb8>"
      ]
     },
     "execution_count": 32,
     "metadata": {},
     "output_type": "execute_result"
    },
    {
     "data": {
      "image/png": "[encoded data removed]",
      "text/plain": [
       "<Figure size 432x288 with 1 Axes>"
      ]
     },
     "metadata": {
      "needs_background": "light"
     },
     "output_type": "display_data"
    }
   ],
   "source": [
    "sns.countplot(x = 'fradulent', hue = 'marital_status', data = train_data)"
   ]
  },
  {
   "cell_type": "code",
   "execution_count": 33,
   "metadata": {},
   "outputs": [
    {
     "data": {
      "text/plain": [
       "<matplotlib.axes._subplots.AxesSubplot at 0x1335825be48>"
      ]
     },
     "execution_count": 33,
     "metadata": {},
     "output_type": "execute_result"
    },
    {
     "data": {
      "image/png": "[encoded data removed]",
      "text/plain": [
       "<Figure size 432x288 with 1 Axes>"
      ]
     },
     "metadata": {
      "needs_background": "light"
     },
     "output_type": "display_data"
    }
   ],
   "source": [
    "sns.distplot(train_data['age'])"
   ]
  },
  {
   "cell_type": "code",
   "execution_count": 34,
   "metadata": {},
   "outputs": [
    {
     "data": {
      "text/plain": [
       "<seaborn.axisgrid.JointGrid at 0x13358283668>"
      ]
     },
     "execution_count": 34,
     "metadata": {},
     "output_type": "execute_result"
    },
    {
     "data": {
      "image/png": "[encoded data removed]",
      "text/plain": [
       "<Figure size 432x432 with 3 Axes>"
      ]
     },
     "metadata": {
      "needs_background": "light"
     },
     "output_type": "display_data"
    }
   ],
   "source": [
    "sns.jointplot(x = 'fradulent', y = 'age', kind = 'kde', data = train_data)"
   ]
  },
  {
   "cell_type": "code",
   "execution_count": 35,
   "metadata": {},
   "outputs": [
    {
     "name": "stderr",
     "output_type": "stream",
     "text": [
      "C:\\Users\\Olazaah\\Anaconda3\\lib\\site-packages\\statsmodels\\nonparametric\\kde.py:487: RuntimeWarning: invalid value encountered in true_divide\n",
      "  binned = fast_linbin(X, a, b, gridsize) / (delta * nobs)\n",
      "C:\\Users\\Olazaah\\Anaconda3\\lib\\site-packages\\statsmodels\\nonparametric\\kdetools.py:34: RuntimeWarning: invalid value encountered in double_scalars\n",
      "  FAC1 = 2*(np.pi*bw/RANGE)**2\n"
     ]
    },
    {
     "data": {
      "text/plain": [
       "<seaborn.axisgrid.PairGrid at 0x13359400828>"
      ]
     },
     "execution_count": 35,
     "metadata": {},
     "output_type": "execute_result"
    },
    {
     "data": {
      "image/png": "[encoded data removed]",
      "text/plain": [
       "<Figure size 1133.88x1080 with 42 Axes>"
      ]
     },
     "metadata": {
      "needs_background": "light"
     },
     "output_type": "display_data"
    }
   ],
   "source": [
    "sns.pairplot(data = train_data, hue= 'fradulent')"
   ]
  },
  {
   "cell_type": "code",
   "execution_count": 36,
   "metadata": {},
   "outputs": [
    {
     "data": {
      "text/plain": [
       "<matplotlib.axes._subplots.AxesSubplot at 0x1335ab8fa20>"
      ]
     },
     "execution_count": 36,
     "metadata": {},
     "output_type": "execute_result"
    },
    {
     "data": {
      "image/png": "[encoded data removed]",
      "text/plain": [
       "<Figure size 432x288 with 1 Axes>"
      ]
     },
     "metadata": {
      "needs_background": "light"
     },
     "output_type": "display_data"
    }
   ],
   "source": [
    "sns.pointplot(y = 'marital_status',x = 'fradulent', hue = 'account type', data = train_data)"
   ]
  },
  {
   "cell_type": "code",
   "execution_count": 37,
   "metadata": {},
   "outputs": [
    {
     "data": {
      "text/plain": [
       "<matplotlib.axes._subplots.AxesSubplot at 0x1335ab8fe10>"
      ]
     },
     "execution_count": 37,
     "metadata": {},
     "output_type": "execute_result"
    },
    {
     "data": {
      "image/png": "[encoded data removed]",
      "text/plain": [
       "<Figure size 432x288 with 1 Axes>"
      ]
     },
     "metadata": {
      "needs_background": "light"
     },
     "output_type": "display_data"
    }
   ],
   "source": [
    "sns.pointplot(y = 'age',x = 'fradulent', hue = 'account type', data = train_data)"
   ]
  },
  {
   "cell_type": "code",
   "execution_count": 38,
   "metadata": {},
   "outputs": [
    {
     "data": {
      "text/plain": [
       "<matplotlib.axes._subplots.AxesSubplot at 0x1335a717dd8>"
      ]
     },
     "execution_count": 38,
     "metadata": {},
     "output_type": "execute_result"
    },
    {
     "data": {
      "image/png": "[encoded data removed]",
      "text/plain": [
       "<Figure size 432x288 with 1 Axes>"
      ]
     },
     "metadata": {
      "needs_background": "light"
     },
     "output_type": "display_data"
    }
   ],
   "source": [
    "sns.violinplot(y = 'marital_status',x = 'fradulent', hue = 'account type', data = train_data)"
   ]
  },
  {
   "cell_type": "code",
   "execution_count": 58,
   "metadata": {},
   "outputs": [
    {
     "name": "stdout",
     "output_type": "stream",
     "text": [
      "<class 'pandas.core.frame.DataFrame'>\n",
      "RangeIndex: 10493 entries, 0 to 10492\n",
      "Data columns (total 11 columns):\n",
      " #   Column                            Non-Null Count  Dtype \n",
      "---  ------                            --------------  ----- \n",
      " 0   transaction time                  10493 non-null  object\n",
      " 1   time taken (seconds)              10493 non-null  int64 \n",
      " 2   account type                      10493 non-null  object\n",
      " 3   marital_status                    10493 non-null  object\n",
      " 4   age                               10493 non-null  int64 \n",
      " 5   occupation                        10493 non-null  object\n",
      " 6   credit card type                  10493 non-null  object\n",
      " 7   account source verification       10493 non-null  bool  \n",
      " 8   transaction source method         10493 non-null  bool  \n",
      " 9   account destination verification  10493 non-null  bool  \n",
      " 10  fradulent                         10493 non-null  int64 \n",
      "dtypes: bool(3), int64(3), object(5)\n",
      "memory usage: 686.7+ KB\n"
     ]
    }
   ],
   "source": [
    "train_data.info()"
   ]
  },
  {
   "cell_type": "code",
   "execution_count": 61,
   "metadata": {},
   "outputs": [],
   "source": [
    "train_data['transaction time'] = pd.to_datetime(train_data[\"transaction time\"])"
   ]
  },
  {
   "cell_type": "code",
   "execution_count": 63,
   "metadata": {},
   "outputs": [
    {
     "name": "stdout",
     "output_type": "stream",
     "text": [
      "<class 'pandas.core.frame.DataFrame'>\n",
      "RangeIndex: 10493 entries, 0 to 10492\n",
      "Data columns (total 11 columns):\n",
      " #   Column                            Non-Null Count  Dtype         \n",
      "---  ------                            --------------  -----         \n",
      " 0   transaction time                  10493 non-null  datetime64[ns]\n",
      " 1   time taken (seconds)              10493 non-null  int64         \n",
      " 2   account type                      10493 non-null  object        \n",
      " 3   marital_status                    10493 non-null  object        \n",
      " 4   age                               10493 non-null  int64         \n",
      " 5   occupation                        10493 non-null  object        \n",
      " 6   credit card type                  10493 non-null  object        \n",
      " 7   account source verification       10493 non-null  bool          \n",
      " 8   transaction source method         10493 non-null  bool          \n",
      " 9   account destination verification  10493 non-null  bool          \n",
      " 10  fradulent                         10493 non-null  int64         \n",
      "dtypes: bool(3), datetime64[ns](1), int64(3), object(4)\n",
      "memory usage: 686.7+ KB\n"
     ]
    }
   ],
   "source": [
    "train_data.info()"
   ]
  },
  {
   "cell_type": "code",
   "execution_count": 64,
   "metadata": {},
   "outputs": [],
   "source": [
    "test_data['transaction time'] = pd.to_datetime(test_data[\"transaction time\"])"
   ]
  },
  {
   "cell_type": "code",
   "execution_count": 65,
   "metadata": {},
   "outputs": [
    {
     "name": "stdout",
     "output_type": "stream",
     "text": [
      "<class 'pandas.core.frame.DataFrame'>\n",
      "RangeIndex: 4507 entries, 0 to 4506\n",
      "Data columns (total 10 columns):\n",
      " #   Column                            Non-Null Count  Dtype         \n",
      "---  ------                            --------------  -----         \n",
      " 0   transaction time                  4507 non-null   datetime64[ns]\n",
      " 1   time taken (seconds)              4507 non-null   int64         \n",
      " 2   account type                      4507 non-null   object        \n",
      " 3   marital_status                    4507 non-null   object        \n",
      " 4   age                               4507 non-null   int64         \n",
      " 5   occupation                        4507 non-null   object        \n",
      " 6   credit card type                  4507 non-null   object        \n",
      " 7   account source verification       4507 non-null   bool          \n",
      " 8   transaction source method         4507 non-null   bool          \n",
      " 9   account destination verification  4507 non-null   bool          \n",
      "dtypes: bool(3), datetime64[ns](1), int64(2), object(4)\n",
      "memory usage: 259.8+ KB\n"
     ]
    }
   ],
   "source": [
    "test_data.info()"
   ]
  },
  {
   "cell_type": "code",
   "execution_count": 66,
   "metadata": {},
   "outputs": [],
   "source": [
    "train_data_add = {\"transaction_year\":train_data['transaction time'].dt.year,\"transaction_month\":train_data['transaction time'].dt.month,\"transaction_day\":train_data['transaction time'].dt.day,\"transaction_hour\":train_data['transaction time'].dt.hour,\"transaction_minute\":train_data['transaction time'].dt.minute,\"transaction_second\":train_data['transaction time'].dt.second}\n",
    "train_data_add = pd.DataFrame(train_data_add)"
   ]
  },
  {
   "cell_type": "code",
   "execution_count": 67,
   "metadata": {},
   "outputs": [
    {
     "data": {
      "text/html": [
       "<div>\n",
       "<style scoped>\n",
       "    .dataframe tbody tr th:only-of-type {\n",
       "        vertical-align: middle;\n",
       "    }\n",
       "\n",
       "    .dataframe tbody tr th {\n",
       "        vertical-align: top;\n",
       "    }\n",
       "\n",
       "    .dataframe thead th {\n",
       "        text-align: right;\n",
       "    }\n",
       "</style>\n",
       "<table border=\"1\" class=\"dataframe\">\n",
       "  <thead>\n",
       "    <tr style=\"text-align: right;\">\n",
       "      <th></th>\n",
       "      <th>transaction_year</th>\n",
       "      <th>transaction_month</th>\n",
       "      <th>transaction_day</th>\n",
       "      <th>transaction_hour</th>\n",
       "      <th>transaction_minute</th>\n",
       "      <th>transaction_second</th>\n",
       "    </tr>\n",
       "  </thead>\n",
       "  <tbody>\n",
       "    <tr>\n",
       "      <th>0</th>\n",
       "      <td>2016</td>\n",
       "      <td>10</td>\n",
       "      <td>5</td>\n",
       "      <td>1</td>\n",
       "      <td>44</td>\n",
       "      <td>58</td>\n",
       "    </tr>\n",
       "    <tr>\n",
       "      <th>1</th>\n",
       "      <td>2015</td>\n",
       "      <td>1</td>\n",
       "      <td>14</td>\n",
       "      <td>15</td>\n",
       "      <td>5</td>\n",
       "      <td>7</td>\n",
       "    </tr>\n",
       "    <tr>\n",
       "      <th>2</th>\n",
       "      <td>2016</td>\n",
       "      <td>10</td>\n",
       "      <td>28</td>\n",
       "      <td>13</td>\n",
       "      <td>44</td>\n",
       "      <td>58</td>\n",
       "    </tr>\n",
       "    <tr>\n",
       "      <th>3</th>\n",
       "      <td>2016</td>\n",
       "      <td>11</td>\n",
       "      <td>20</td>\n",
       "      <td>15</td>\n",
       "      <td>5</td>\n",
       "      <td>32</td>\n",
       "    </tr>\n",
       "    <tr>\n",
       "      <th>4</th>\n",
       "      <td>2015</td>\n",
       "      <td>9</td>\n",
       "      <td>1</td>\n",
       "      <td>16</td>\n",
       "      <td>11</td>\n",
       "      <td>57</td>\n",
       "    </tr>\n",
       "    <tr>\n",
       "      <th>...</th>\n",
       "      <td>...</td>\n",
       "      <td>...</td>\n",
       "      <td>...</td>\n",
       "      <td>...</td>\n",
       "      <td>...</td>\n",
       "      <td>...</td>\n",
       "    </tr>\n",
       "    <tr>\n",
       "      <th>10488</th>\n",
       "      <td>2014</td>\n",
       "      <td>12</td>\n",
       "      <td>4</td>\n",
       "      <td>17</td>\n",
       "      <td>38</td>\n",
       "      <td>16</td>\n",
       "    </tr>\n",
       "    <tr>\n",
       "      <th>10489</th>\n",
       "      <td>2014</td>\n",
       "      <td>10</td>\n",
       "      <td>2</td>\n",
       "      <td>1</td>\n",
       "      <td>52</td>\n",
       "      <td>43</td>\n",
       "    </tr>\n",
       "    <tr>\n",
       "      <th>10490</th>\n",
       "      <td>2015</td>\n",
       "      <td>7</td>\n",
       "      <td>3</td>\n",
       "      <td>4</td>\n",
       "      <td>33</td>\n",
       "      <td>19</td>\n",
       "    </tr>\n",
       "    <tr>\n",
       "      <th>10491</th>\n",
       "      <td>2014</td>\n",
       "      <td>10</td>\n",
       "      <td>8</td>\n",
       "      <td>12</td>\n",
       "      <td>55</td>\n",
       "      <td>1</td>\n",
       "    </tr>\n",
       "    <tr>\n",
       "      <th>10492</th>\n",
       "      <td>2014</td>\n",
       "      <td>6</td>\n",
       "      <td>19</td>\n",
       "      <td>20</td>\n",
       "      <td>46</td>\n",
       "      <td>32</td>\n",
       "    </tr>\n",
       "  </tbody>\n",
       "</table>\n",
       "<p>10493 rows × 6 columns</p>\n",
       "</div>"
      ],
      "text/plain": [
       "       transaction_year  transaction_month  transaction_day  transaction_hour  \\\n",
       "0                  2016                 10                5                 1   \n",
       "1                  2015                  1               14                15   \n",
       "2                  2016                 10               28                13   \n",
       "3                  2016                 11               20                15   \n",
       "4                  2015                  9                1                16   \n",
       "...                 ...                ...              ...               ...   \n",
       "10488              2014                 12                4                17   \n",
       "10489              2014                 10                2                 1   \n",
       "10490              2015                  7                3                 4   \n",
       "10491              2014                 10                8                12   \n",
       "10492              2014                  6               19                20   \n",
       "\n",
       "       transaction_minute  transaction_second  \n",
       "0                      44                  58  \n",
       "1                       5                   7  \n",
       "2                      44                  58  \n",
       "3                       5                  32  \n",
       "4                      11                  57  \n",
       "...                   ...                 ...  \n",
       "10488                  38                  16  \n",
       "10489                  52                  43  \n",
       "10490                  33                  19  \n",
       "10491                  55                   1  \n",
       "10492                  46                  32  \n",
       "\n",
       "[10493 rows x 6 columns]"
      ]
     },
     "execution_count": 67,
     "metadata": {},
     "output_type": "execute_result"
    }
   ],
   "source": [
    "train_data_add"
   ]
  },
  {
   "cell_type": "code",
   "execution_count": 68,
   "metadata": {},
   "outputs": [],
   "source": [
    "test_data_add = {\"transaction_year\":test_data['transaction time'].dt.year,\"transaction_month\":test_data['transaction time'].dt.month,\"transaction_day\":test_data['transaction time'].dt.day,\"transaction_hour\":test_data['transaction time'].dt.hour,\"transaction_minute\":test_data['transaction time'].dt.minute,\"transaction_second\":test_data['transaction time'].dt.second}\n",
    "test_data_add = pd.DataFrame(test_data_add)"
   ]
  },
  {
   "cell_type": "code",
   "execution_count": 69,
   "metadata": {},
   "outputs": [
    {
     "data": {
      "text/html": [
       "<div>\n",
       "<style scoped>\n",
       "    .dataframe tbody tr th:only-of-type {\n",
       "        vertical-align: middle;\n",
       "    }\n",
       "\n",
       "    .dataframe tbody tr th {\n",
       "        vertical-align: top;\n",
       "    }\n",
       "\n",
       "    .dataframe thead th {\n",
       "        text-align: right;\n",
       "    }\n",
       "</style>\n",
       "<table border=\"1\" class=\"dataframe\">\n",
       "  <thead>\n",
       "    <tr style=\"text-align: right;\">\n",
       "      <th></th>\n",
       "      <th>transaction_year</th>\n",
       "      <th>transaction_month</th>\n",
       "      <th>transaction_day</th>\n",
       "      <th>transaction_hour</th>\n",
       "      <th>transaction_minute</th>\n",
       "      <th>transaction_second</th>\n",
       "    </tr>\n",
       "  </thead>\n",
       "  <tbody>\n",
       "    <tr>\n",
       "      <th>0</th>\n",
       "      <td>2016</td>\n",
       "      <td>6</td>\n",
       "      <td>28</td>\n",
       "      <td>12</td>\n",
       "      <td>51</td>\n",
       "      <td>43</td>\n",
       "    </tr>\n",
       "    <tr>\n",
       "      <th>1</th>\n",
       "      <td>2015</td>\n",
       "      <td>12</td>\n",
       "      <td>16</td>\n",
       "      <td>18</td>\n",
       "      <td>4</td>\n",
       "      <td>3</td>\n",
       "    </tr>\n",
       "    <tr>\n",
       "      <th>2</th>\n",
       "      <td>2016</td>\n",
       "      <td>10</td>\n",
       "      <td>15</td>\n",
       "      <td>4</td>\n",
       "      <td>6</td>\n",
       "      <td>55</td>\n",
       "    </tr>\n",
       "    <tr>\n",
       "      <th>3</th>\n",
       "      <td>2014</td>\n",
       "      <td>3</td>\n",
       "      <td>15</td>\n",
       "      <td>4</td>\n",
       "      <td>40</td>\n",
       "      <td>45</td>\n",
       "    </tr>\n",
       "    <tr>\n",
       "      <th>4</th>\n",
       "      <td>2015</td>\n",
       "      <td>5</td>\n",
       "      <td>25</td>\n",
       "      <td>5</td>\n",
       "      <td>9</td>\n",
       "      <td>33</td>\n",
       "    </tr>\n",
       "    <tr>\n",
       "      <th>...</th>\n",
       "      <td>...</td>\n",
       "      <td>...</td>\n",
       "      <td>...</td>\n",
       "      <td>...</td>\n",
       "      <td>...</td>\n",
       "      <td>...</td>\n",
       "    </tr>\n",
       "    <tr>\n",
       "      <th>4502</th>\n",
       "      <td>2016</td>\n",
       "      <td>7</td>\n",
       "      <td>17</td>\n",
       "      <td>17</td>\n",
       "      <td>32</td>\n",
       "      <td>10</td>\n",
       "    </tr>\n",
       "    <tr>\n",
       "      <th>4503</th>\n",
       "      <td>2016</td>\n",
       "      <td>9</td>\n",
       "      <td>28</td>\n",
       "      <td>11</td>\n",
       "      <td>3</td>\n",
       "      <td>0</td>\n",
       "    </tr>\n",
       "    <tr>\n",
       "      <th>4504</th>\n",
       "      <td>2015</td>\n",
       "      <td>8</td>\n",
       "      <td>22</td>\n",
       "      <td>22</td>\n",
       "      <td>19</td>\n",
       "      <td>44</td>\n",
       "    </tr>\n",
       "    <tr>\n",
       "      <th>4505</th>\n",
       "      <td>2014</td>\n",
       "      <td>10</td>\n",
       "      <td>21</td>\n",
       "      <td>13</td>\n",
       "      <td>21</td>\n",
       "      <td>38</td>\n",
       "    </tr>\n",
       "    <tr>\n",
       "      <th>4506</th>\n",
       "      <td>2015</td>\n",
       "      <td>7</td>\n",
       "      <td>3</td>\n",
       "      <td>0</td>\n",
       "      <td>8</td>\n",
       "      <td>32</td>\n",
       "    </tr>\n",
       "  </tbody>\n",
       "</table>\n",
       "<p>4507 rows × 6 columns</p>\n",
       "</div>"
      ],
      "text/plain": [
       "      transaction_year  transaction_month  transaction_day  transaction_hour  \\\n",
       "0                 2016                  6               28                12   \n",
       "1                 2015                 12               16                18   \n",
       "2                 2016                 10               15                 4   \n",
       "3                 2014                  3               15                 4   \n",
       "4                 2015                  5               25                 5   \n",
       "...                ...                ...              ...               ...   \n",
       "4502              2016                  7               17                17   \n",
       "4503              2016                  9               28                11   \n",
       "4504              2015                  8               22                22   \n",
       "4505              2014                 10               21                13   \n",
       "4506              2015                  7                3                 0   \n",
       "\n",
       "      transaction_minute  transaction_second  \n",
       "0                     51                  43  \n",
       "1                      4                   3  \n",
       "2                      6                  55  \n",
       "3                     40                  45  \n",
       "4                      9                  33  \n",
       "...                  ...                 ...  \n",
       "4502                  32                  10  \n",
       "4503                   3                   0  \n",
       "4504                  19                  44  \n",
       "4505                  21                  38  \n",
       "4506                   8                  32  \n",
       "\n",
       "[4507 rows x 6 columns]"
      ]
     },
     "execution_count": 69,
     "metadata": {},
     "output_type": "execute_result"
    }
   ],
   "source": [
    "test_data_add"
   ]
  },
  {
   "cell_type": "code",
   "execution_count": 73,
   "metadata": {},
   "outputs": [],
   "source": [
    "test_data_add = test_data_add.drop(['transaction_year','transaction_month','transaction_day'], axis = 1)"
   ]
  },
  {
   "cell_type": "code",
   "execution_count": 74,
   "metadata": {},
   "outputs": [],
   "source": [
    "train_data_add = train_data_add.drop(['transaction_year','transaction_month','transaction_day'], axis = 1)"
   ]
  },
  {
   "cell_type": "code",
   "execution_count": 75,
   "metadata": {},
   "outputs": [],
   "source": [
    "train_data = pd.concat([train_data,train_data_add], axis=1)\n",
    "test_data = pd.concat([test_data,test_data_add], axis=1)"
   ]
  },
  {
   "cell_type": "code",
   "execution_count": 78,
   "metadata": {},
   "outputs": [
    {
     "name": "stdout",
     "output_type": "stream",
     "text": [
      "<class 'pandas.core.frame.DataFrame'>\n",
      "RangeIndex: 10493 entries, 0 to 10492\n",
      "Data columns (total 14 columns):\n",
      " #   Column                            Non-Null Count  Dtype         \n",
      "---  ------                            --------------  -----         \n",
      " 0   transaction time                  10493 non-null  datetime64[ns]\n",
      " 1   time taken (seconds)              10493 non-null  int64         \n",
      " 2   account type                      10493 non-null  object        \n",
      " 3   marital_status                    10493 non-null  object        \n",
      " 4   age                               10493 non-null  int64         \n",
      " 5   occupation                        10493 non-null  object        \n",
      " 6   credit card type                  10493 non-null  object        \n",
      " 7   account source verification       10493 non-null  bool          \n",
      " 8   transaction source method         10493 non-null  bool          \n",
      " 9   account destination verification  10493 non-null  bool          \n",
      " 10  fradulent                         10493 non-null  int64         \n",
      " 11  transaction_hour                  10493 non-null  int64         \n",
      " 12  transaction_minute                10493 non-null  int64         \n",
      " 13  transaction_second                10493 non-null  int64         \n",
      "dtypes: bool(3), datetime64[ns](1), int64(6), object(4)\n",
      "memory usage: 932.6+ KB\n"
     ]
    }
   ],
   "source": [
    "train_data.info()"
   ]
  },
  {
   "cell_type": "code",
   "execution_count": 77,
   "metadata": {},
   "outputs": [],
   "source": [
    "fraud_column = train_data['fradulent']"
   ]
  },
  {
   "cell_type": "code",
   "execution_count": 79,
   "metadata": {},
   "outputs": [],
   "source": [
    "train_data = train_data.drop(['transaction time','account type','marital_status','age','occupation','credit card type'] , axis = 1)\n",
    "test_data = test_data.drop(['transaction time','account type','marital_status','age','occupation','credit card type'] , axis = 1)\n"
   ]
  },
  {
   "cell_type": "code",
   "execution_count": 81,
   "metadata": {},
   "outputs": [],
   "source": [
    " del train_data['fradulent']"
   ]
  },
  {
   "cell_type": "code",
   "execution_count": 83,
   "metadata": {},
   "outputs": [
    {
     "name": "stdout",
     "output_type": "stream",
     "text": [
      "<class 'pandas.core.frame.DataFrame'>\n",
      "RangeIndex: 10493 entries, 0 to 10492\n",
      "Data columns (total 7 columns):\n",
      " #   Column                            Non-Null Count  Dtype\n",
      "---  ------                            --------------  -----\n",
      " 0   time taken (seconds)              10493 non-null  int64\n",
      " 1   account source verification       10493 non-null  bool \n",
      " 2   transaction source method         10493 non-null  bool \n",
      " 3   account destination verification  10493 non-null  bool \n",
      " 4   transaction_hour                  10493 non-null  int64\n",
      " 5   transaction_minute                10493 non-null  int64\n",
      " 6   transaction_second                10493 non-null  int64\n",
      "dtypes: bool(3), int64(4)\n",
      "memory usage: 358.8 KB\n"
     ]
    }
   ],
   "source": [
    "train_data.info()"
   ]
  },
  {
   "cell_type": "code",
   "execution_count": 84,
   "metadata": {},
   "outputs": [
    {
     "name": "stdout",
     "output_type": "stream",
     "text": [
      "<class 'pandas.core.frame.DataFrame'>\n",
      "RangeIndex: 4507 entries, 0 to 4506\n",
      "Data columns (total 7 columns):\n",
      " #   Column                            Non-Null Count  Dtype\n",
      "---  ------                            --------------  -----\n",
      " 0   time taken (seconds)              4507 non-null   int64\n",
      " 1   account source verification       4507 non-null   bool \n",
      " 2   transaction source method         4507 non-null   bool \n",
      " 3   account destination verification  4507 non-null   bool \n",
      " 4   transaction_hour                  4507 non-null   int64\n",
      " 5   transaction_minute                4507 non-null   int64\n",
      " 6   transaction_second                4507 non-null   int64\n",
      "dtypes: bool(3), int64(4)\n",
      "memory usage: 154.2 KB\n"
     ]
    }
   ],
   "source": [
    "test_data.info()"
   ]
  },
  {
   "cell_type": "code",
   "execution_count": 86,
   "metadata": {},
   "outputs": [],
   "source": [
    "from sklearn.preprocessing import LabelEncoder as LE"
   ]
  },
  {
   "cell_type": "code",
   "execution_count": 87,
   "metadata": {},
   "outputs": [],
   "source": [
    "label_encode = LE()\n",
    "train_data['account source verification'] = label_encode.fit_transform(train_data['account source verification'])\n",
    "train_data['account destination verification'] = label_encode.fit_transform(train_data['account destination verification'])\n",
    "train_data['transaction source method'] = label_encode.fit_transform(train_data['transaction source method'])"
   ]
  },
  {
   "cell_type": "code",
   "execution_count": 88,
   "metadata": {},
   "outputs": [],
   "source": [
    "label_encode = LE()\n",
    "test_data['account source verification'] = label_encode.fit_transform(test_data['account source verification'])\n",
    "test_data['account destination verification'] = label_encode.fit_transform(test_data['account destination verification'])\n",
    "test_data['transaction source method'] = label_encode.fit_transform(test_data['transaction source method'])"
   ]
  },
  {
   "cell_type": "code",
   "execution_count": 90,
   "metadata": {},
   "outputs": [
    {
     "name": "stdout",
     "output_type": "stream",
     "text": [
      "<class 'pandas.core.frame.DataFrame'>\n",
      "RangeIndex: 10493 entries, 0 to 10492\n",
      "Data columns (total 7 columns):\n",
      " #   Column                            Non-Null Count  Dtype\n",
      "---  ------                            --------------  -----\n",
      " 0   time taken (seconds)              10493 non-null  int64\n",
      " 1   account source verification       10493 non-null  int64\n",
      " 2   transaction source method         10493 non-null  int64\n",
      " 3   account destination verification  10493 non-null  int64\n",
      " 4   transaction_hour                  10493 non-null  int64\n",
      " 5   transaction_minute                10493 non-null  int64\n",
      " 6   transaction_second                10493 non-null  int64\n",
      "dtypes: int64(7)\n",
      "memory usage: 574.0 KB\n"
     ]
    }
   ],
   "source": [
    "train_data.info()"
   ]
  },
  {
   "cell_type": "code",
   "execution_count": 91,
   "metadata": {},
   "outputs": [],
   "source": [
    "from sklearn.preprocessing import StandardScaler, MinMaxScaler\n",
    "std_scaler = MinMaxScaler()\n",
    "train_data = std_scaler.fit_transform(train_data)\n",
    "test_data = std_scaler.transform(test_data)"
   ]
  },
  {
   "cell_type": "code",
   "execution_count": 92,
   "metadata": {},
   "outputs": [
    {
     "data": {
      "text/plain": [
       "array([[0.45945946, 1.        , 0.        , ..., 0.04347826, 0.74576271,\n",
       "        0.98305085],\n",
       "       [0.91071071, 1.        , 0.        , ..., 0.65217391, 0.08474576,\n",
       "        0.11864407],\n",
       "       [0.2980981 , 1.        , 1.        , ..., 0.56521739, 0.74576271,\n",
       "        0.98305085],\n",
       "       ...,\n",
       "       [0.55135135, 0.        , 0.        , ..., 0.17391304, 0.55932203,\n",
       "        0.3220339 ],\n",
       "       [0.17017017, 1.        , 1.        , ..., 0.52173913, 0.93220339,\n",
       "        0.01694915],\n",
       "       [0.60800801, 1.        , 0.        , ..., 0.86956522, 0.77966102,\n",
       "        0.54237288]])"
      ]
     },
     "execution_count": 92,
     "metadata": {},
     "output_type": "execute_result"
    }
   ],
   "source": [
    "train_data"
   ]
  },
  {
   "cell_type": "code",
   "execution_count": 93,
   "metadata": {},
   "outputs": [
    {
     "data": {
      "text/plain": [
       "array([[0.60640641, 1.        , 1.        , ..., 0.52173913, 0.86440678,\n",
       "        0.72881356],\n",
       "       [0.6048048 , 1.        , 0.        , ..., 0.7826087 , 0.06779661,\n",
       "        0.05084746],\n",
       "       [0.48248248, 1.        , 0.        , ..., 0.17391304, 0.10169492,\n",
       "        0.93220339],\n",
       "       ...,\n",
       "       [0.76356356, 1.        , 1.        , ..., 0.95652174, 0.3220339 ,\n",
       "        0.74576271],\n",
       "       [0.72972973, 0.        , 0.        , ..., 0.56521739, 0.3559322 ,\n",
       "        0.6440678 ],\n",
       "       [0.90830831, 1.        , 0.        , ..., 0.        , 0.13559322,\n",
       "        0.54237288]])"
      ]
     },
     "execution_count": 93,
     "metadata": {},
     "output_type": "execute_result"
    }
   ],
   "source": [
    "test_data"
   ]
  },
  {
   "cell_type": "code",
   "execution_count": 98,
   "metadata": {},
   "outputs": [],
   "source": [
    "from sklearn.linear_model import LogisticRegression as LR"
   ]
  },
  {
   "cell_type": "code",
   "execution_count": 99,
   "metadata": {},
   "outputs": [],
   "source": [
    "model_LR =LR(C = 14.0,solver = 'liblinear')"
   ]
  },
  {
   "cell_type": "code",
   "execution_count": 100,
   "metadata": {},
   "outputs": [
    {
     "data": {
      "text/plain": [
       "LogisticRegression(C=14.0, solver='liblinear')"
      ]
     },
     "execution_count": 100,
     "metadata": {},
     "output_type": "execute_result"
    }
   ],
   "source": [
    "model_LR.fit(train_data,fraud_column)"
   ]
  },
  {
   "cell_type": "code",
   "execution_count": 97,
   "metadata": {},
   "outputs": [
    {
     "data": {
      "text/plain": [
       "0        0\n",
       "1        0\n",
       "2        0\n",
       "3        0\n",
       "4        1\n",
       "        ..\n",
       "10488    1\n",
       "10489    0\n",
       "10490    0\n",
       "10491    0\n",
       "10492    0\n",
       "Name: fradulent, Length: 10493, dtype: int64"
      ]
     },
     "execution_count": 97,
     "metadata": {},
     "output_type": "execute_result"
    }
   ],
   "source": [
    "fraud_column"
   ]
  },
  {
   "cell_type": "code",
   "execution_count": 101,
   "metadata": {},
   "outputs": [
    {
     "data": {
      "text/plain": [
       "0.7205756218431335"
      ]
     },
     "execution_count": 101,
     "metadata": {},
     "output_type": "execute_result"
    }
   ],
   "source": [
    "model_LR.score(train_data,fraud_column)"
   ]
  },
  {
   "cell_type": "code",
   "execution_count": 102,
   "metadata": {},
   "outputs": [],
   "source": [
    "from sklearn.ensemble import RandomForestRegressor"
   ]
  },
  {
   "cell_type": "code",
   "execution_count": 103,
   "metadata": {},
   "outputs": [],
   "source": [
    "model_RFR = RandomForestRegressor(n_estimators = 1000, random_state = 42)\n"
   ]
  },
  {
   "cell_type": "code",
   "execution_count": 104,
   "metadata": {},
   "outputs": [
    {
     "data": {
      "text/plain": [
       "RandomForestRegressor(n_estimators=1000, random_state=42)"
      ]
     },
     "execution_count": 104,
     "metadata": {},
     "output_type": "execute_result"
    }
   ],
   "source": [
    "model_RFR.fit(train_data,fraud_column)"
   ]
  },
  {
   "cell_type": "code",
   "execution_count": 105,
   "metadata": {},
   "outputs": [
    {
     "data": {
      "text/plain": [
       "0.8900612346021131"
      ]
     },
     "execution_count": 105,
     "metadata": {},
     "output_type": "execute_result"
    }
   ],
   "source": [
    "model_RFR.score(train_data,fraud_column)"
   ]
  },
  {
   "cell_type": "code",
   "execution_count": 106,
   "metadata": {},
   "outputs": [],
   "source": [
    "from sklearn.tree import DecisionTreeRegressor "
   ]
  },
  {
   "cell_type": "code",
   "execution_count": 107,
   "metadata": {},
   "outputs": [],
   "source": [
    "model_DTR = DecisionTreeRegressor(random_state = 0)"
   ]
  },
  {
   "cell_type": "code",
   "execution_count": 108,
   "metadata": {},
   "outputs": [
    {
     "data": {
      "text/plain": [
       "DecisionTreeRegressor(random_state=0)"
      ]
     },
     "execution_count": 108,
     "metadata": {},
     "output_type": "execute_result"
    }
   ],
   "source": [
    "model_DTR.fit(train_data,fraud_column)"
   ]
  },
  {
   "cell_type": "code",
   "execution_count": 109,
   "metadata": {},
   "outputs": [
    {
     "data": {
      "text/plain": [
       "1.0"
      ]
     },
     "execution_count": 109,
     "metadata": {},
     "output_type": "execute_result"
    }
   ],
   "source": [
    "model_DTR.score(train_data,fraud_column)"
   ]
  },
  {
   "cell_type": "code",
   "execution_count": 110,
   "metadata": {},
   "outputs": [
    {
     "data": {
      "text/plain": [
       "array([0, 0, 0, ..., 0, 0, 0], dtype=int64)"
      ]
     },
     "execution_count": 110,
     "metadata": {},
     "output_type": "execute_result"
    }
   ],
   "source": [
    "model_LR.predict(test_data)"
   ]
  },
  {
   "cell_type": "code",
   "execution_count": 114,
   "metadata": {},
   "outputs": [],
   "source": [
    "random_forest_list = model_RFR.predict(test_data).tolist()"
   ]
  },
  {
   "cell_type": "code",
   "execution_count": 113,
   "metadata": {},
   "outputs": [
    {
     "data": {
      "text/plain": [
       "array([0., 1., 0., ..., 0., 0., 1.])"
      ]
     },
     "execution_count": 113,
     "metadata": {},
     "output_type": "execute_result"
    }
   ],
   "source": [
    "model_DTR.predict(test_data)"
   ]
  },
  {
   "cell_type": "code",
   "execution_count": 115,
   "metadata": {},
   "outputs": [],
   "source": [
    "for i in range(len(random_forest_list)) :\n",
    "    if random_forest_list[i] < 0.5:\n",
    "        random_forest_list[i] = 0\n",
    "    else:\n",
    "        random_forest_list[i] = 1"
   ]
  },
  {
   "cell_type": "code",
   "execution_count": 116,
   "metadata": {},
   "outputs": [],
   "source": [
    "submission = pd.read_csv('sample sub.csv')"
   ]
  },
  {
   "cell_type": "code",
   "execution_count": 119,
   "metadata": {},
   "outputs": [],
   "source": [
    "del submission['fradulent']"
   ]
  },
  {
   "cell_type": "code",
   "execution_count": 120,
   "metadata": {},
   "outputs": [
    {
     "data": {
      "text/html": [
       "<div>\n",
       "<style scoped>\n",
       "    .dataframe tbody tr th:only-of-type {\n",
       "        vertical-align: middle;\n",
       "    }\n",
       "\n",
       "    .dataframe tbody tr th {\n",
       "        vertical-align: top;\n",
       "    }\n",
       "\n",
       "    .dataframe thead th {\n",
       "        text-align: right;\n",
       "    }\n",
       "</style>\n",
       "<table border=\"1\" class=\"dataframe\">\n",
       "  <thead>\n",
       "    <tr style=\"text-align: right;\">\n",
       "      <th></th>\n",
       "      <th>id</th>\n",
       "    </tr>\n",
       "  </thead>\n",
       "  <tbody>\n",
       "    <tr>\n",
       "      <th>0</th>\n",
       "      <td>bcus2993</td>\n",
       "    </tr>\n",
       "    <tr>\n",
       "      <th>1</th>\n",
       "      <td>bcus2994</td>\n",
       "    </tr>\n",
       "    <tr>\n",
       "      <th>2</th>\n",
       "      <td>bcus2995</td>\n",
       "    </tr>\n",
       "    <tr>\n",
       "      <th>3</th>\n",
       "      <td>bcus2996</td>\n",
       "    </tr>\n",
       "    <tr>\n",
       "      <th>4</th>\n",
       "      <td>bcus2997</td>\n",
       "    </tr>\n",
       "    <tr>\n",
       "      <th>...</th>\n",
       "      <td>...</td>\n",
       "    </tr>\n",
       "    <tr>\n",
       "      <th>4502</th>\n",
       "      <td>bcus7495</td>\n",
       "    </tr>\n",
       "    <tr>\n",
       "      <th>4503</th>\n",
       "      <td>bcus7496</td>\n",
       "    </tr>\n",
       "    <tr>\n",
       "      <th>4504</th>\n",
       "      <td>bcus7497</td>\n",
       "    </tr>\n",
       "    <tr>\n",
       "      <th>4505</th>\n",
       "      <td>bcus7498</td>\n",
       "    </tr>\n",
       "    <tr>\n",
       "      <th>4506</th>\n",
       "      <td>bcus7499</td>\n",
       "    </tr>\n",
       "  </tbody>\n",
       "</table>\n",
       "<p>4507 rows × 1 columns</p>\n",
       "</div>"
      ],
      "text/plain": [
       "            id\n",
       "0     bcus2993\n",
       "1     bcus2994\n",
       "2     bcus2995\n",
       "3     bcus2996\n",
       "4     bcus2997\n",
       "...        ...\n",
       "4502  bcus7495\n",
       "4503  bcus7496\n",
       "4504  bcus7497\n",
       "4505  bcus7498\n",
       "4506  bcus7499\n",
       "\n",
       "[4507 rows x 1 columns]"
      ]
     },
     "execution_count": 120,
     "metadata": {},
     "output_type": "execute_result"
    }
   ],
   "source": [
    "submission"
   ]
  },
  {
   "cell_type": "code",
   "execution_count": 121,
   "metadata": {},
   "outputs": [],
   "source": [
    "submission.insert(1,\"Fraudulent_Random_Forest\",random_forest_list)\n"
   ]
  },
  {
   "cell_type": "code",
   "execution_count": 122,
   "metadata": {},
   "outputs": [],
   "source": [
    "submission.insert(2,'Fraudulent_Decision_Trees',model_DTR.predict(test_data))"
   ]
  },
  {
   "cell_type": "code",
   "execution_count": 123,
   "metadata": {},
   "outputs": [],
   "source": [
    "submission.insert(3,'Fraudulent_Logistic_Regression',model_LR.predict(test_data))"
   ]
  },
  {
   "cell_type": "code",
   "execution_count": 124,
   "metadata": {},
   "outputs": [
    {
     "data": {
      "text/html": [
       "<div>\n",
       "<style scoped>\n",
       "    .dataframe tbody tr th:only-of-type {\n",
       "        vertical-align: middle;\n",
       "    }\n",
       "\n",
       "    .dataframe tbody tr th {\n",
       "        vertical-align: top;\n",
       "    }\n",
       "\n",
       "    .dataframe thead th {\n",
       "        text-align: right;\n",
       "    }\n",
       "</style>\n",
       "<table border=\"1\" class=\"dataframe\">\n",
       "  <thead>\n",
       "    <tr style=\"text-align: right;\">\n",
       "      <th></th>\n",
       "      <th>id</th>\n",
       "      <th>Fraudulent_Random_Forest</th>\n",
       "      <th>Fraudulent_Decision_Trees</th>\n",
       "      <th>Fraudulent_Logistic_Regression</th>\n",
       "    </tr>\n",
       "  </thead>\n",
       "  <tbody>\n",
       "    <tr>\n",
       "      <th>0</th>\n",
       "      <td>bcus2993</td>\n",
       "      <td>0</td>\n",
       "      <td>0.0</td>\n",
       "      <td>0</td>\n",
       "    </tr>\n",
       "    <tr>\n",
       "      <th>1</th>\n",
       "      <td>bcus2994</td>\n",
       "      <td>1</td>\n",
       "      <td>1.0</td>\n",
       "      <td>0</td>\n",
       "    </tr>\n",
       "    <tr>\n",
       "      <th>2</th>\n",
       "      <td>bcus2995</td>\n",
       "      <td>0</td>\n",
       "      <td>0.0</td>\n",
       "      <td>0</td>\n",
       "    </tr>\n",
       "    <tr>\n",
       "      <th>3</th>\n",
       "      <td>bcus2996</td>\n",
       "      <td>0</td>\n",
       "      <td>0.0</td>\n",
       "      <td>0</td>\n",
       "    </tr>\n",
       "    <tr>\n",
       "      <th>4</th>\n",
       "      <td>bcus2997</td>\n",
       "      <td>0</td>\n",
       "      <td>0.0</td>\n",
       "      <td>0</td>\n",
       "    </tr>\n",
       "    <tr>\n",
       "      <th>...</th>\n",
       "      <td>...</td>\n",
       "      <td>...</td>\n",
       "      <td>...</td>\n",
       "      <td>...</td>\n",
       "    </tr>\n",
       "    <tr>\n",
       "      <th>4502</th>\n",
       "      <td>bcus7495</td>\n",
       "      <td>1</td>\n",
       "      <td>1.0</td>\n",
       "      <td>0</td>\n",
       "    </tr>\n",
       "    <tr>\n",
       "      <th>4503</th>\n",
       "      <td>bcus7496</td>\n",
       "      <td>0</td>\n",
       "      <td>0.0</td>\n",
       "      <td>0</td>\n",
       "    </tr>\n",
       "    <tr>\n",
       "      <th>4504</th>\n",
       "      <td>bcus7497</td>\n",
       "      <td>1</td>\n",
       "      <td>0.0</td>\n",
       "      <td>0</td>\n",
       "    </tr>\n",
       "    <tr>\n",
       "      <th>4505</th>\n",
       "      <td>bcus7498</td>\n",
       "      <td>1</td>\n",
       "      <td>0.0</td>\n",
       "      <td>0</td>\n",
       "    </tr>\n",
       "    <tr>\n",
       "      <th>4506</th>\n",
       "      <td>bcus7499</td>\n",
       "      <td>0</td>\n",
       "      <td>1.0</td>\n",
       "      <td>0</td>\n",
       "    </tr>\n",
       "  </tbody>\n",
       "</table>\n",
       "<p>4507 rows × 4 columns</p>\n",
       "</div>"
      ],
      "text/plain": [
       "            id  Fraudulent_Random_Forest  Fraudulent_Decision_Trees  \\\n",
       "0     bcus2993                         0                        0.0   \n",
       "1     bcus2994                         1                        1.0   \n",
       "2     bcus2995                         0                        0.0   \n",
       "3     bcus2996                         0                        0.0   \n",
       "4     bcus2997                         0                        0.0   \n",
       "...        ...                       ...                        ...   \n",
       "4502  bcus7495                         1                        1.0   \n",
       "4503  bcus7496                         0                        0.0   \n",
       "4504  bcus7497                         1                        0.0   \n",
       "4505  bcus7498                         1                        0.0   \n",
       "4506  bcus7499                         0                        1.0   \n",
       "\n",
       "      Fraudulent_Logistic_Regression  \n",
       "0                                  0  \n",
       "1                                  0  \n",
       "2                                  0  \n",
       "3                                  0  \n",
       "4                                  0  \n",
       "...                              ...  \n",
       "4502                               0  \n",
       "4503                               0  \n",
       "4504                               0  \n",
       "4505                               0  \n",
       "4506                               0  \n",
       "\n",
       "[4507 rows x 4 columns]"
      ]
     },
     "execution_count": 124,
     "metadata": {},
     "output_type": "execute_result"
    }
   ],
   "source": [
    "submission"
   ]
  },
  {
   "cell_type": "code",
   "execution_count": 125,
   "metadata": {},
   "outputs": [],
   "source": [
    "del submission['Fraudulent_Logistic_Regression']"
   ]
  },
  {
   "cell_type": "code",
   "execution_count": 126,
   "metadata": {},
   "outputs": [
    {
     "data": {
      "text/html": [
       "<div>\n",
       "<style scoped>\n",
       "    .dataframe tbody tr th:only-of-type {\n",
       "        vertical-align: middle;\n",
       "    }\n",
       "\n",
       "    .dataframe tbody tr th {\n",
       "        vertical-align: top;\n",
       "    }\n",
       "\n",
       "    .dataframe thead th {\n",
       "        text-align: right;\n",
       "    }\n",
       "</style>\n",
       "<table border=\"1\" class=\"dataframe\">\n",
       "  <thead>\n",
       "    <tr style=\"text-align: right;\">\n",
       "      <th></th>\n",
       "      <th>id</th>\n",
       "      <th>Fraudulent_Random_Forest</th>\n",
       "      <th>Fraudulent_Decision_Trees</th>\n",
       "    </tr>\n",
       "  </thead>\n",
       "  <tbody>\n",
       "    <tr>\n",
       "      <th>0</th>\n",
       "      <td>bcus2993</td>\n",
       "      <td>0</td>\n",
       "      <td>0.0</td>\n",
       "    </tr>\n",
       "    <tr>\n",
       "      <th>1</th>\n",
       "      <td>bcus2994</td>\n",
       "      <td>1</td>\n",
       "      <td>1.0</td>\n",
       "    </tr>\n",
       "    <tr>\n",
       "      <th>2</th>\n",
       "      <td>bcus2995</td>\n",
       "      <td>0</td>\n",
       "      <td>0.0</td>\n",
       "    </tr>\n",
       "    <tr>\n",
       "      <th>3</th>\n",
       "      <td>bcus2996</td>\n",
       "      <td>0</td>\n",
       "      <td>0.0</td>\n",
       "    </tr>\n",
       "    <tr>\n",
       "      <th>4</th>\n",
       "      <td>bcus2997</td>\n",
       "      <td>0</td>\n",
       "      <td>0.0</td>\n",
       "    </tr>\n",
       "    <tr>\n",
       "      <th>...</th>\n",
       "      <td>...</td>\n",
       "      <td>...</td>\n",
       "      <td>...</td>\n",
       "    </tr>\n",
       "    <tr>\n",
       "      <th>4502</th>\n",
       "      <td>bcus7495</td>\n",
       "      <td>1</td>\n",
       "      <td>1.0</td>\n",
       "    </tr>\n",
       "    <tr>\n",
       "      <th>4503</th>\n",
       "      <td>bcus7496</td>\n",
       "      <td>0</td>\n",
       "      <td>0.0</td>\n",
       "    </tr>\n",
       "    <tr>\n",
       "      <th>4504</th>\n",
       "      <td>bcus7497</td>\n",
       "      <td>1</td>\n",
       "      <td>0.0</td>\n",
       "    </tr>\n",
       "    <tr>\n",
       "      <th>4505</th>\n",
       "      <td>bcus7498</td>\n",
       "      <td>1</td>\n",
       "      <td>0.0</td>\n",
       "    </tr>\n",
       "    <tr>\n",
       "      <th>4506</th>\n",
       "      <td>bcus7499</td>\n",
       "      <td>0</td>\n",
       "      <td>1.0</td>\n",
       "    </tr>\n",
       "  </tbody>\n",
       "</table>\n",
       "<p>4507 rows × 3 columns</p>\n",
       "</div>"
      ],
      "text/plain": [
       "            id  Fraudulent_Random_Forest  Fraudulent_Decision_Trees\n",
       "0     bcus2993                         0                        0.0\n",
       "1     bcus2994                         1                        1.0\n",
       "2     bcus2995                         0                        0.0\n",
       "3     bcus2996                         0                        0.0\n",
       "4     bcus2997                         0                        0.0\n",
       "...        ...                       ...                        ...\n",
       "4502  bcus7495                         1                        1.0\n",
       "4503  bcus7496                         0                        0.0\n",
       "4504  bcus7497                         1                        0.0\n",
       "4505  bcus7498                         1                        0.0\n",
       "4506  bcus7499                         0                        1.0\n",
       "\n",
       "[4507 rows x 3 columns]"
      ]
     },
     "execution_count": 126,
     "metadata": {},
     "output_type": "execute_result"
    }
   ],
   "source": [
    "submission"
   ]
  },
  {
   "cell_type": "code",
   "execution_count": null,
   "metadata": {},
   "outputs": [],
   "source": []
  }
 ],
 "metadata": {
  "kernelspec": {
   "display_name": "Python 3.7.3 64-bit ('base': conda)",
   "language": "python",
   "name": "python37364bitbaseconda696fe52c12ae4c60a859b358fae1d77b"
  },
  "language_info": {
   "codemirror_mode": {
    "name": "ipython",
    "version": 3
   },
   "file_extension": ".py",
   "mimetype": "text/x-python",
   "name": "python",
   "nbconvert_exporter": "python",
   "pygments_lexer": "ipython3",
   "version": "3.7.3"
  }
 },
 "nbformat": 4,
 "nbformat_minor": 2
}
